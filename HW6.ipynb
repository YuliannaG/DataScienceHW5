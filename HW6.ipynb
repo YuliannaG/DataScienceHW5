{
  "cells": [
    {
      "cell_type": "markdown",
      "metadata": {
        "id": "view-in-github",
        "colab_type": "text"
      },
      "source": [
        "<a href=\"https://colab.research.google.com/github/YuliannaG/DataScienceHW5/blob/main/HW6.ipynb\" target=\"_parent\"><img src=\"https://colab.research.google.com/assets/colab-badge.svg\" alt=\"Open In Colab\"/></a>"
      ]
    },
    {
      "cell_type": "markdown",
      "metadata": {
        "id": "IHGpfGb2aOJy"
      },
      "source": [
        "Task 1"
      ]
    },
    {
      "cell_type": "code",
      "execution_count": 2,
      "metadata": {
        "colab": {
          "base_uri": "https://localhost:8080/"
        },
        "id": "dGIgAI3Eak7Z",
        "outputId": "2994f753-654e-477c-803e-f0685708c159"
      },
      "outputs": [
        {
          "output_type": "stream",
          "name": "stdout",
          "text": [
            "Looking in indexes: https://pypi.org/simple, https://us-python.pkg.dev/colab-wheels/public/simple/\n",
            "Collecting pyspark\n",
            "  Downloading pyspark-3.3.1.tar.gz (281.4 MB)\n",
            "\u001b[2K     \u001b[90m━━━━━━━━━━━━━━━━━━━━━━━━━━━━━━━━━━━━━━━\u001b[0m \u001b[32m281.4/281.4 MB\u001b[0m \u001b[31m4.3 MB/s\u001b[0m eta \u001b[36m0:00:00\u001b[0m\n",
            "\u001b[?25h  Preparing metadata (setup.py) ... \u001b[?25l\u001b[?25hdone\n",
            "Collecting py4j==0.10.9.5\n",
            "  Downloading py4j-0.10.9.5-py2.py3-none-any.whl (199 kB)\n",
            "\u001b[2K     \u001b[90m━━━━━━━━━━━━━━━━━━━━━━━━━━━━━━━━━━━━━━\u001b[0m \u001b[32m199.7/199.7 KB\u001b[0m \u001b[31m11.7 MB/s\u001b[0m eta \u001b[36m0:00:00\u001b[0m\n",
            "\u001b[?25hBuilding wheels for collected packages: pyspark\n",
            "  Building wheel for pyspark (setup.py) ... \u001b[?25l\u001b[?25hdone\n",
            "  Created wheel for pyspark: filename=pyspark-3.3.1-py2.py3-none-any.whl size=281845512 sha256=fcf7df804a7bbada7c3fafb06d12cdc4125c141c02f6363bc108e82315fe8ce0\n",
            "  Stored in directory: /root/.cache/pip/wheels/43/dc/11/ec201cd671da62fa9c5cc77078235e40722170ceba231d7598\n",
            "Successfully built pyspark\n",
            "Installing collected packages: py4j, pyspark\n",
            "Successfully installed py4j-0.10.9.5 pyspark-3.3.1\n"
          ]
        }
      ],
      "source": [
        "pip install pyspark"
      ]
    },
    {
      "cell_type": "code",
      "execution_count": 39,
      "metadata": {
        "colab": {
          "base_uri": "https://localhost:8080/"
        },
        "id": "DZKnWkHHaNkQ",
        "outputId": "96e5b98a-b21b-4ee0-e9e8-337a1bc9cb38"
      },
      "outputs": [
        {
          "output_type": "stream",
          "name": "stdout",
          "text": [
            "The data has 7 columns\n",
            "Row(_c0='Name', _c1='Author', _c2='User Rating', _c3='Reviews', _c4='Price', _c5='Year', _c6='Genre')\n"
          ]
        }
      ],
      "source": [
        "import pandas as pd\n",
        "import pyspark\n",
        "import numpy as np\n",
        "import seaborn as sns\n",
        "import matplotlib.pyplot as plt\n",
        "\n",
        "\n",
        "from pyspark.sql import Row\n",
        "from pyspark.sql import SparkSession\n",
        "\n",
        "\n",
        "spark_session = SparkSession.builder.appName(\"books\").getOrCreate()\n",
        "\n",
        "path = \"/content/drive/MyDrive/books.csv\"\n",
        "\n",
        "rdd = spark_session.read.csv(path).rdd\n",
        "#rdd = spark.read.option(\"header\",'True').csv(path).rdd\n",
        "\n",
        "print(\"The data has {} columns\".format(len(rdd.first())))\n",
        "\n",
        "header = rdd.first()\n",
        "print(header)"
      ]
    },
    {
      "cell_type": "markdown",
      "source": [
        "Используя только RDD вычислить среднюю цену всех книг, у которых рейтинг выше 4.7"
      ],
      "metadata": {
        "id": "CrJZuQ1wtnYE"
      }
    },
    {
      "cell_type": "code",
      "source": [
        "#https://datascienceplus.com/dataframes-vs-rdds-in-spark-part-1/\n",
        "\n",
        "content = rdd.filter(lambda line: line != header)\n",
        "\n",
        "prices = content.filter(lambda line: line[2] > '4.7').map(lambda line:float(line[4])).collect()\n",
        "avg_price = np.mean(prices)\n",
        "print(f'Average price of books with raiting > 4.7 is {avg_price}')"
      ],
      "metadata": {
        "colab": {
          "base_uri": "https://localhost:8080/"
        },
        "id": "vkpT0ly4eJJr",
        "outputId": "69f0410e-3999-4aa9-f62f-40ec0ebc560a"
      },
      "execution_count": 24,
      "outputs": [
        {
          "output_type": "stream",
          "name": "stdout",
          "text": [
            "Average price of books with raiting > 4.7 is 10.69832402234637\n"
          ]
        }
      ]
    },
    {
      "cell_type": "markdown",
      "source": [
        "Построить гистограмму распределения рецензий (столбец Reviews)."
      ],
      "metadata": {
        "id": "REz3oRlNttKZ"
      }
    },
    {
      "cell_type": "code",
      "source": [
        "#https://spark.apache.org/docs/latest/api/python/reference/api/pyspark.RDD.histogram.html\n",
        "\n",
        "reviews = content.map(lambda line:float(line[3]))\n",
        "\n",
        "hist1 = reviews.histogram([0,10000, 20000, 30000, 40000, 50000, 60000, 70000, 80000, 90000])\n",
        "print(hist1)\n",
        "\n",
        "hist2 = reviews.histogram(10)\n",
        "print(hist2)\n",
        "\n",
        "\n",
        "fig1 = plt.figure(\"Option 1\")\n",
        "heights1 = np.array(hist1[1])\n",
        "full_bins1 = hist1[0]\n",
        "mid_point_bins1 = full_bins1[:-1]\n",
        "widths1 = [abs(i - j) for i, j in zip(full_bins1[:-1], full_bins1[1:])]\n",
        "plt.bar(mid_point_bins1, heights1, width=widths1, color='r')\n",
        "plt.title(\"Option 1\")\n",
        "\n",
        "plt.show()\n",
        "\n",
        "fig2 = plt.figure(\"Option 1\")\n",
        "heights2 = np.array(hist2[1])\n",
        "full_bins2 = hist2[0]\n",
        "mid_point_bins2 = full_bins2[:-1]\n",
        "widths2 = [abs(i - j) for i, j in zip(full_bins2[:-1], full_bins2[1:])]\n",
        "plt.bar(mid_point_bins2, heights2, width=widths2, color='b')\n",
        "plt.title(\"Option 2\")\n",
        "\n",
        "plt.show()"
      ],
      "metadata": {
        "colab": {
          "base_uri": "https://localhost:8080/",
          "height": 601
        },
        "id": "H7XqTU_Kdlcb",
        "outputId": "9d553724-2d01-4077-fb1f-79f9321c36a8"
      },
      "execution_count": 52,
      "outputs": [
        {
          "output_type": "stream",
          "name": "stdout",
          "text": [
            "([0, 10000, 20000, 30000, 40000, 50000, 60000, 70000, 80000, 90000], [325, 119, 79, 11, 4, 7, 2, 2, 1])\n",
            "([37.0, 8817.4, 17597.8, 26378.199999999997, 35158.6, 43939.0, 52719.399999999994, 61499.799999999996, 70280.2, 79060.59999999999, 87841.0], [287, 131, 87, 25, 4, 8, 5, 0, 0, 3])\n"
          ]
        },
        {
          "output_type": "display_data",
          "data": {
            "text/plain": [
              "<Figure size 432x288 with 1 Axes>"
            ],
            "image/png": "[encoded data removed]"
          },
          "metadata": {
            "needs_background": "light"
          }
        },
        {
          "output_type": "display_data",
          "data": {
            "text/plain": [
              "<Figure size 432x288 with 1 Axes>"
            ],
            "image/png": "[encoded data removed]"
          },
          "metadata": {
            "needs_background": "light"
          }
        }
      ]
    },
    {
      "cell_type": "markdown",
      "source": [
        "Построить матрицу корреляции для столбцов \"User Rating\", \"Reviews\" и \"Price\"."
      ],
      "metadata": {
        "id": "7okKIs-GtvaS"
      }
    },
    {
      "cell_type": "code",
      "source": [
        "from pyspark.mllib.stat import Statistics\n",
        "\n",
        "rating = content.map(lambda line:float(line[2]))\n",
        "reviews = content.map(lambda line:float(line[3]))\n",
        "price = content.map(lambda line:float(line[4]))\n",
        "all3rdd = content.map(lambda line:[float(line[2]),float(line[3]),float(line[4])])\n",
        "Statistics.corr(rating, reviews, method = 'pearson')\n",
        "\n",
        "# CANNOT MAKE THE MATRIXS WITH CORRELATION OF ALL 3 PARAMETERS\n",
        "# .corr(rating, reviews, price)\n",
        "\n",
        "# correlations = rating.corr()\n",
        "# print(correlations)\n",
        "# sns.heatmap(correlations)"
      ],
      "metadata": {
        "colab": {
          "base_uri": "https://localhost:8080/"
        },
        "id": "UwIG10pOty65",
        "outputId": "236540d6-6f01-4a78-e1b2-2bc0486de18f"
      },
      "execution_count": 84,
      "outputs": [
        {
          "output_type": "execute_result",
          "data": {
            "text/plain": [
              "-0.001729014255550007"
            ]
          },
          "metadata": {},
          "execution_count": 84
        }
      ]
    },
    {
      "cell_type": "markdown",
      "source": [
        "Используя библиотеку seaborn построить парные графики (pairplots) столбцов \"User Rating\", \"Reviews\" и \"Price\"."
      ],
      "metadata": {
        "id": "4mxMRiH73DFe"
      }
    },
    {
      "cell_type": "code",
      "source": [
        "ratingreviews = content.map(lambda line:[float(line[2]),float(line[3])]).toDF()\n",
        "\n",
        "print(ratingreviews)\n",
        "\n",
        "sns.pairplot(ratingreviews)"
      ],
      "metadata": {
        "colab": {
          "base_uri": "https://localhost:8080/",
          "height": 395
        },
        "id": "bx4Nc_D73D8s",
        "outputId": "8622a360-5a5d-4f6d-8e85-4cc482b52330"
      },
      "execution_count": 97,
      "outputs": [
        {
          "output_type": "stream",
          "name": "stdout",
          "text": [
            "DataFrame[_1: double, _2: double]\n"
          ]
        },
        {
          "output_type": "error",
          "ename": "TypeError",
          "evalue": "ignored",
          "traceback": [
            "\u001b[0;31m---------------------------------------------------------------------------\u001b[0m",
            "\u001b[0;31mTypeError\u001b[0m                                 Traceback (most recent call last)",
            "\u001b[0;32m<ipython-input-97-021fe511c00d>\u001b[0m in \u001b[0;36m<module>\u001b[0;34m\u001b[0m\n\u001b[1;32m      3\u001b[0m \u001b[0mprint\u001b[0m\u001b[0;34m(\u001b[0m\u001b[0mratingreviews\u001b[0m\u001b[0;34m)\u001b[0m\u001b[0;34m\u001b[0m\u001b[0;34m\u001b[0m\u001b[0m\n\u001b[1;32m      4\u001b[0m \u001b[0;34m\u001b[0m\u001b[0m\n\u001b[0;32m----> 5\u001b[0;31m \u001b[0msns\u001b[0m\u001b[0;34m.\u001b[0m\u001b[0mpairplot\u001b[0m\u001b[0;34m(\u001b[0m\u001b[0mratingreviews\u001b[0m\u001b[0;34m)\u001b[0m\u001b[0;34m\u001b[0m\u001b[0;34m\u001b[0m\u001b[0m\n\u001b[0m",
            "\u001b[0;32m/usr/local/lib/python3.8/dist-packages/seaborn/_decorators.py\u001b[0m in \u001b[0;36minner_f\u001b[0;34m(*args, **kwargs)\u001b[0m\n\u001b[1;32m     44\u001b[0m             )\n\u001b[1;32m     45\u001b[0m         \u001b[0mkwargs\u001b[0m\u001b[0;34m.\u001b[0m\u001b[0mupdate\u001b[0m\u001b[0;34m(\u001b[0m\u001b[0;34m{\u001b[0m\u001b[0mk\u001b[0m\u001b[0;34m:\u001b[0m \u001b[0marg\u001b[0m \u001b[0;32mfor\u001b[0m \u001b[0mk\u001b[0m\u001b[0;34m,\u001b[0m \u001b[0marg\u001b[0m \u001b[0;32min\u001b[0m \u001b[0mzip\u001b[0m\u001b[0;34m(\u001b[0m\u001b[0msig\u001b[0m\u001b[0;34m.\u001b[0m\u001b[0mparameters\u001b[0m\u001b[0;34m,\u001b[0m \u001b[0margs\u001b[0m\u001b[0;34m)\u001b[0m\u001b[0;34m}\u001b[0m\u001b[0;34m)\u001b[0m\u001b[0;34m\u001b[0m\u001b[0;34m\u001b[0m\u001b[0m\n\u001b[0;32m---> 46\u001b[0;31m         \u001b[0;32mreturn\u001b[0m \u001b[0mf\u001b[0m\u001b[0;34m(\u001b[0m\u001b[0;34m**\u001b[0m\u001b[0mkwargs\u001b[0m\u001b[0;34m)\u001b[0m\u001b[0;34m\u001b[0m\u001b[0;34m\u001b[0m\u001b[0m\n\u001b[0m\u001b[1;32m     47\u001b[0m     \u001b[0;32mreturn\u001b[0m \u001b[0minner_f\u001b[0m\u001b[0;34m\u001b[0m\u001b[0;34m\u001b[0m\u001b[0m\n\u001b[1;32m     48\u001b[0m \u001b[0;34m\u001b[0m\u001b[0m\n",
            "\u001b[0;32m/usr/local/lib/python3.8/dist-packages/seaborn/axisgrid.py\u001b[0m in \u001b[0;36mpairplot\u001b[0;34m(data, hue, hue_order, palette, vars, x_vars, y_vars, kind, diag_kind, markers, height, aspect, corner, dropna, plot_kws, diag_kws, grid_kws, size)\u001b[0m\n\u001b[1;32m   2077\u001b[0m \u001b[0;34m\u001b[0m\u001b[0m\n\u001b[1;32m   2078\u001b[0m     \u001b[0;32mif\u001b[0m \u001b[0;32mnot\u001b[0m \u001b[0misinstance\u001b[0m\u001b[0;34m(\u001b[0m\u001b[0mdata\u001b[0m\u001b[0;34m,\u001b[0m \u001b[0mpd\u001b[0m\u001b[0;34m.\u001b[0m\u001b[0mDataFrame\u001b[0m\u001b[0;34m)\u001b[0m\u001b[0;34m:\u001b[0m\u001b[0;34m\u001b[0m\u001b[0;34m\u001b[0m\u001b[0m\n\u001b[0;32m-> 2079\u001b[0;31m         raise TypeError(\n\u001b[0m\u001b[1;32m   2080\u001b[0m             \"'data' must be pandas DataFrame object, not: {typefound}\".format(\n\u001b[1;32m   2081\u001b[0m                 typefound=type(data)))\n",
            "\u001b[0;31mTypeError\u001b[0m: 'data' must be pandas DataFrame object, not: <class 'pyspark.sql.dataframe.DataFrame'>"
          ]
        }
      ]
    }
  ],
  "metadata": {
    "colab": {
      "provenance": [],
      "mount_file_id": "104cjLn23hSWLhx4VciePRNgI4xuP3_ic",
      "authorship_tag": "ABX9TyMl4+CeyUmTYS7UiCraDJjo",
      "include_colab_link": true
    },
    "kernelspec": {
      "display_name": "Python 3",
      "name": "python3"
    },
    "language_info": {
      "name": "python"
    }
  },
  "nbformat": 4,
  "nbformat_minor": 0
}